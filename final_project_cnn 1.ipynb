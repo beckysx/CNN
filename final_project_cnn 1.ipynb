{
 "cells": [
  {
   "cell_type": "code",
   "execution_count": 1,
   "id": "44dc019d",
   "metadata": {},
   "outputs": [],
   "source": [
    "import numpy as np  \n",
    "from sklearn.preprocessing import OneHotEncoder\n",
    "from sklearn.preprocessing import Normalizer\n",
    "from sklearn.model_selection import train_test_split"
   ]
  },
  {
   "cell_type": "code",
   "execution_count": 2,
   "id": "a4bafa0c",
   "metadata": {
    "code_folding": [
     20,
     81,
     108
    ]
   },
   "outputs": [],
   "source": [
    "class Layer:\n",
    "    def forward(self,X):\n",
    "        pass\n",
    "    \n",
    "    def backward(self,E):\n",
    "        pass\n",
    "\n",
    "class Dense(Layer):\n",
    "    def __init__(self,input_size, output_size):\n",
    "        self.w = np.random.rand(input_size+1, output_size)\n",
    "    def forward(self,X):\n",
    "        # add bias\n",
    "        X = np.hstack((X,np.ones((len(X),1))))\n",
    "        self.X = X\n",
    "        return X @ self.w\n",
    "    \n",
    "    def backward(self,E):\n",
    "        prev_error = E @ self.w[:-1].T\n",
    "        self.w -= self.X.T @ E\n",
    "        return prev_error\n",
    "\n",
    "class Conv2D(Layer):\n",
    "    def __init__(self,height,width,channel,filter_num,filter_height,filter_width,stride,padding=(0,0)):\n",
    "        '''\n",
    "        height: height of the image\n",
    "        width:  width of the image\n",
    "        filter_num: number of filters to use. The size of the output channel should be\n",
    "                    the same as filter_num\n",
    "        filter_size: size of the filter, each filter has shape filter_size x filter_size\n",
    "        stride: pixels to move between each convolution\n",
    "        padding: zero paddings for height and width padding has shape: (height_padding, width_padding)\n",
    "        '''\n",
    "        # copy parameters\n",
    "        self.height = height\n",
    "        self.width = width\n",
    "        self.channel = channel\n",
    "        self.filter_num = filter_num\n",
    "        self.filter_height = filter_height\n",
    "        self.filter_width = filter_width\n",
    "        self.stride = stride\n",
    "        self.padding = padding\n",
    "        # end of copying parameters\n",
    "        \n",
    "        self.paddingh = padding[0]\n",
    "        self.paddingw  = padding[1]\n",
    "        # initialize filters and corresponding biases\n",
    "        self.filters = np.random.rand(filter_num, channel, filter_height, filter_width)\n",
    "        self.biases  = np.random.rand(filter_num, 1)\n",
    "        # compute output shape for one layer of an image\n",
    "        self.output_height = (height+self.paddingh - filter_height) // stride + 1\n",
    "        self.output_width =  (width + self.paddingw - filter_width) // stride + 1\n",
    "        \n",
    "    def forward(self,X):\n",
    "        '''\n",
    "        X: input of images.\n",
    "        We assume X is a numpy array with shape (N, C, H, W)\n",
    "                 N        number of images\n",
    "                 H   the height of one image\n",
    "                 W    the width of one image\n",
    "                 C  depth of one image. Like how many layers stacked together\n",
    "        '''\n",
    "        N,C,H,W = X.shape\n",
    "        assert H == self.height and W== self.width\n",
    "        # add padding\n",
    "        X = np.pad(X,((0,0),(0,0),(0,self.padding[0]),(0,self.padding[1])),'constant',constant_values=(0, 0))\n",
    "        # preallocate the output\n",
    "        output = np.zeros(X.shape[0],self.filter_num,self.output_height,self.output_width)\n",
    "        \n",
    "        for n in range(N): # process each image\n",
    "            for f in range(self.filter_num): # iterate through each filter\n",
    "                image = X[n][c]\n",
    "                for c in range(C): # process each channel\n",
    "                    for i in range(self.output_height): # each stride down\n",
    "                        for j in range(self.output_width): # each stride left\n",
    "                            height_start = i * self.stride\n",
    "                            width_start = j * self.stride\n",
    "                            region = image[height_start:height_start+self.filter_height,width_start:width_start + self.filter_width]\n",
    "                            output[n][f][i][j] += np.sum(region * self.filters[f])\n",
    "        return output\n",
    "    \n",
    "    def backward(self,E):\n",
    "        pass\n",
    "class MaxPooling(Layer):\n",
    "    def forward(self,X):\n",
    "        pass\n",
    "    \n",
    "    def backward(self,E):\n",
    "        pass\n",
    "    \n",
    "class Relu(Layer):\n",
    "    def forward(self,X):\n",
    "        self.derivative = X > 0\n",
    "        # fancy index  \n",
    "#         X[X<0] = 0\n",
    "        return X * (X>0)\n",
    "    def backward(self,E):\n",
    "        return E * self.derivative\n",
    "    \n",
    "class SoftMax(Layer):\n",
    "    def forward(self,X):\n",
    "        X_exp = np.exp(X)\n",
    "        X_exp_sum = np.sum(X_exp,axis=1).reshape(-1,1)\n",
    "        return X_exp / X_exp_sum\n",
    "    # assume we have the matching loss\n",
    "    # then the error for last layer would\n",
    "    # just be y - t\n",
    "    def backward(self,E):\n",
    "        return E\n",
    "    \n",
    "def toPredict(predict):\n",
    "    result = []\n",
    "    for row in predict:\n",
    "        max_v = 0\n",
    "        r_row = []\n",
    "        for x in row:\n",
    "            max_v = max(max_v,x)\n",
    "        for x in row:\n",
    "            r_row.append(1) if x == max_v else r_row.append(0)\n",
    "        result.append(r_row)\n",
    "    return np.array(result)\n",
    "                "
   ]
  },
  {
   "cell_type": "code",
   "execution_count": 3,
   "id": "bbb54f6f",
   "metadata": {},
   "outputs": [
    {
     "name": "stdout",
     "output_type": "stream",
     "text": [
      "[[0.72881332 0.50950789 0.78707078]\n",
      " [0.00404911 0.241886   0.86768526]]\n",
      "[[0 0 1]\n",
      " [0 0 1]]\n"
     ]
    }
   ],
   "source": [
    "x = np.random.random((2,3))\n",
    "print(x)\n",
    "print(toPredict(x))"
   ]
  },
  {
   "cell_type": "code",
   "execution_count": 5,
   "id": "d853be61",
   "metadata": {},
   "outputs": [
    {
     "data": {
      "text/plain": [
       "0.9666666666666667"
      ]
     },
     "execution_count": 5,
     "metadata": {},
     "output_type": "execute_result"
    }
   ],
   "source": [
    "from sklearn import datasets\n",
    "from sklearn.metrics import accuracy_score\n",
    "iris = datasets.load_iris()\n",
    "X = iris.data# we only take the first two features.\n",
    "y = iris.target\n",
    "Y = np.zeros((y.size, 3))\n",
    "Y[np.arange(y.size),y] = 1\n",
    "\n",
    "X_train, X_test, y_train, y_test = train_test_split(X, Y, test_size=0.2, random_state=42)\n",
    "\n",
    "\n",
    "\n",
    "layers = [Dense(X.shape[1], 10), Relu(), Dense(10,3),SoftMax()]\n",
    "\n",
    "max_ite = 100\n",
    "alpha = 0.0001\n",
    "\n",
    "for i in range(1000):\n",
    "    train_X = X_train\n",
    "    for layer in layers:\n",
    "        train_X = layer.forward(train_X)\n",
    "        #print(train_X)\n",
    "    E = (train_X - y_train) * alpha\n",
    "    for k in range(len(layers)-1,-1,-1):\n",
    "        E = layers[k].backward(E)\n",
    "    #print(E)\n",
    "for layer in layers:\n",
    "    X_test = layer.forward(X_test)\n",
    "y_pred = toPredict(X_test)\n",
    "accuracy_score(y_test, y_pred)\n"
   ]
  },
  {
   "cell_type": "code",
   "execution_count": null,
   "id": "7f50ca36",
   "metadata": {},
   "outputs": [],
   "source": []
  }
 ],
 "metadata": {
  "kernelspec": {
   "display_name": "Python 3",
   "language": "python",
   "name": "python3"
  },
  "language_info": {
   "codemirror_mode": {
    "name": "ipython",
    "version": 3
   },
   "file_extension": ".py",
   "mimetype": "text/x-python",
   "name": "python",
   "nbconvert_exporter": "python",
   "pygments_lexer": "ipython3",
   "version": "3.7.4"
  },
  "varInspector": {
   "cols": {
    "lenName": 16,
    "lenType": 16,
    "lenVar": 40
   },
   "kernels_config": {
    "python": {
     "delete_cmd_postfix": "",
     "delete_cmd_prefix": "del ",
     "library": "var_list.py",
     "varRefreshCmd": "print(var_dic_list())"
    },
    "r": {
     "delete_cmd_postfix": ") ",
     "delete_cmd_prefix": "rm(",
     "library": "var_list.r",
     "varRefreshCmd": "cat(var_dic_list()) "
    }
   },
   "types_to_exclude": [
    "module",
    "function",
    "builtin_function_or_method",
    "instance",
    "_Feature"
   ],
   "window_display": false
  }
 },
 "nbformat": 4,
 "nbformat_minor": 5
}
